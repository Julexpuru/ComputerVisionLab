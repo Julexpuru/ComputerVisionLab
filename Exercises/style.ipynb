{
  "nbformat": 4,
  "nbformat_minor": 0,
  "metadata": {
    "colab": {
      "name": "Keras_styletransfer.ipynb",
      "version": "0.3.2",
      "views": {},
      "default_view": {},
      "provenance": []
    },
    "kernelspec": {
      "display_name": "Python 2",
      "language": "python",
      "name": "python2"
    },
    "accelerator": "GPU"
  },
  "cells": [
    {
      "metadata": {
        "id": "pb1GFy65f6Y5",
        "colab_type": "code",
        "colab": {
          "autoexec": {
            "startup": false,
            "wait_interval": 0
          }
        }
      },
      "cell_type": "code",
      "source": [
        "from __future__ import print_function\n",
        "import numpy as np\n",
        "from PIL import Image\n",
        "\n",
        "from keras.applications.vgg16 import VGG16\n",
        "from keras.applications.vgg16 import preprocess_input,decode_predictions"
      ],
      "execution_count": 0,
      "outputs": []
    },
    {
      "metadata": {
        "id": "X44Hri9Ef6ZA",
        "colab_type": "code",
        "colab": {
          "autoexec": {
            "startup": false,
            "wait_interval": 0
          }
        }
      },
      "cell_type": "code",
      "source": [
        "from keras import backend\n",
        "from keras.models import Model\n",
        "from scipy.optimize import fmin_l_bfgs_b\n",
        "from scipy.misc import imsave"
      ],
      "execution_count": 0,
      "outputs": []
    },
    {
      "metadata": {
        "id": "7_NaAEqQhQye",
        "colab_type": "code",
        "colab": {
          "autoexec": {
            "startup": false,
            "wait_interval": 0
          },
          "base_uri": "https://localhost:8080/",
          "height": 388
        },
        "outputId": "79dbb774-f97b-406c-ee31-f9ab1d44e248",
        "executionInfo": {
          "status": "ok",
          "timestamp": 1526570694035,
          "user_tz": -120,
          "elapsed": 5369,
          "user": {
            "displayName": "Roberto Paredes",
            "photoUrl": "//lh4.googleusercontent.com/-QCfp-A5HRxU/AAAAAAAAAAI/AAAAAAAADo4/EylBAwI_iaA/s50-c-k-no/photo.jpg",
            "userId": "101896057245815152435"
          }
        }
      },
      "cell_type": "code",
      "source": [
        "!rm *.tgz *.png \n",
        "!wget https://www.dropbox.com/s/pppk3ltnci0damv/style.tgz\n",
        "!tar xvzf style.tgz"
      ],
      "execution_count": 132,
      "outputs": [
        {
          "output_type": "stream",
          "text": [
            "--2018-05-17 15:24:51--  https://www.dropbox.com/s/pppk3ltnci0damv/style.tgz\r\n",
            "Resolving www.dropbox.com (www.dropbox.com)... 162.125.7.1, 2620:100:6016:1::a27d:101\n",
            "Connecting to www.dropbox.com (www.dropbox.com)|162.125.7.1|:443... connected.\n",
            "HTTP request sent, awaiting response... 302 Found\n",
            "Location: https://dl.dropboxusercontent.com/content_link/vTWdk6tJcLgjD7YLa6WWVtABtSfI8TvElRWPN8FJIwB6JgKMK2tKye38voxkIdQt/file [following]\n",
            "--2018-05-17 15:24:51--  https://dl.dropboxusercontent.com/content_link/vTWdk6tJcLgjD7YLa6WWVtABtSfI8TvElRWPN8FJIwB6JgKMK2tKye38voxkIdQt/file\n",
            "Resolving dl.dropboxusercontent.com (dl.dropboxusercontent.com)... 162.125.7.6, 2620:100:6016:6::a27d:106\n",
            "Connecting to dl.dropboxusercontent.com (dl.dropboxusercontent.com)|162.125.7.6|:443... connected.\n",
            "HTTP request sent, awaiting response... 200 OK\n",
            "Length: 899339 (878K) [application/x-gtar]\n",
            "Saving to: ‘style.tgz’\n",
            "\n",
            "style.tgz           100%[===================>] 878.26K  --.-KB/s    in 0.1s    \n",
            "\n",
            "2018-05-17 15:24:52 (8.23 MB/s) - ‘style.tgz’ saved [899339/899339]\n",
            "\n",
            "./._style.png\n",
            "style.png\n",
            "./._upv.png\n",
            "upv.png\n"
          ],
          "name": "stdout"
        }
      ]
    },
    {
      "metadata": {
        "id": "OinQT7lcf6ZE",
        "colab_type": "code",
        "colab": {
          "autoexec": {
            "startup": false,
            "wait_interval": 0
          }
        }
      },
      "cell_type": "code",
      "source": [
        "content_image=Image.open('upv.png')\n",
        "content_image=content_image.resize((512,512))"
      ],
      "execution_count": 0,
      "outputs": []
    },
    {
      "metadata": {
        "id": "RtcltRCqf6ZI",
        "colab_type": "code",
        "colab": {
          "autoexec": {
            "startup": false,
            "wait_interval": 0
          }
        }
      },
      "cell_type": "code",
      "source": [
        "style_image= Image.open('style.png')\n",
        "style_image=style_image.resize((512,512))"
      ],
      "execution_count": 0,
      "outputs": []
    },
    {
      "metadata": {
        "id": "HL8lnfeqf6ZR",
        "colab_type": "code",
        "colab": {
          "autoexec": {
            "startup": false,
            "wait_interval": 0
          }
        }
      },
      "cell_type": "code",
      "source": [
        "content_array=np.asarray(content_image,dtype='float32')\n",
        "content_array=np.expand_dims(content_array,axis=0)"
      ],
      "execution_count": 0,
      "outputs": []
    },
    {
      "metadata": {
        "id": "f_W_Szmaf6ZU",
        "colab_type": "code",
        "colab": {
          "autoexec": {
            "startup": false,
            "wait_interval": 0
          },
          "base_uri": "https://localhost:8080/",
          "height": 52
        },
        "outputId": "0ef8fdc5-3d92-4ba0-85b8-b31280ef0e2f",
        "executionInfo": {
          "status": "ok",
          "timestamp": 1526570928651,
          "user_tz": -120,
          "elapsed": 658,
          "user": {
            "displayName": "Roberto Paredes",
            "photoUrl": "//lh4.googleusercontent.com/-QCfp-A5HRxU/AAAAAAAAAAI/AAAAAAAADo4/EylBAwI_iaA/s50-c-k-no/photo.jpg",
            "userId": "101896057245815152435"
          }
        }
      },
      "cell_type": "code",
      "source": [
        "style_array=np.asarray(style_image,dtype='float32')\n",
        "style_array=np.expand_dims(style_array,axis=0)\n",
        "\n",
        "print(content_array.shape)\n",
        "print(style_array.shape)"
      ],
      "execution_count": 145,
      "outputs": [
        {
          "output_type": "stream",
          "text": [
            "(1, 512, 512, 3)\n",
            "(1, 512, 512, 3)\n"
          ],
          "name": "stdout"
        }
      ]
    },
    {
      "metadata": {
        "id": "z-214u7Wf6ZY",
        "colab_type": "code",
        "colab": {
          "autoexec": {
            "startup": false,
            "wait_interval": 0
          }
        }
      },
      "cell_type": "code",
      "source": [
        "content_array[:, :, :, 0] -= np.mean(content_array[:,:,:,0])\n",
        "content_array[:, :, :, 1] -= np.mean(content_array[:,:,:,1])\n",
        "content_array[:, :, :, 2] -= np.mean(content_array[:,:,:,2])\n"
      ],
      "execution_count": 0,
      "outputs": []
    },
    {
      "metadata": {
        "id": "PrgowxDpf6Zb",
        "colab_type": "code",
        "colab": {
          "autoexec": {
            "startup": false,
            "wait_interval": 0
          }
        }
      },
      "cell_type": "code",
      "source": [
        "style_array[:, :, :, 0] -= np.mean(style_array[:, :, :, 0])\n",
        "style_array[:, :, :, 1] -= np.mean(style_array[:, :, :, 1])\n",
        "style_array[:, :, :, 2] -= np.mean(style_array[:, :, :, 2])\n"
      ],
      "execution_count": 0,
      "outputs": []
    },
    {
      "metadata": {
        "id": "QV68dNa-f6Zf",
        "colab_type": "code",
        "colab": {
          "autoexec": {
            "startup": false,
            "wait_interval": 0
          }
        }
      },
      "cell_type": "code",
      "source": [
        "height=512\n",
        "width=512\n",
        "content_image=backend.variable(content_array)\n",
        "style_image=backend.variable(style_array)\n",
        "combination_image=backend.placeholder((1,height,width,3))"
      ],
      "execution_count": 0,
      "outputs": []
    },
    {
      "metadata": {
        "id": "pzLxL5yif6Zi",
        "colab_type": "code",
        "colab": {
          "autoexec": {
            "startup": false,
            "wait_interval": 0
          }
        }
      },
      "cell_type": "code",
      "source": [
        "input_tensor=backend.concatenate([content_image,style_image,combination_image],axis=0)"
      ],
      "execution_count": 0,
      "outputs": []
    },
    {
      "metadata": {
        "id": "mUdyl-iqf6Zk",
        "colab_type": "code",
        "colab": {
          "autoexec": {
            "startup": false,
            "wait_interval": 0
          }
        }
      },
      "cell_type": "code",
      "source": [
        "model=VGG16(input_tensor=input_tensor,weights='imagenet', include_top=False)\n",
        "model.summary()"
      ],
      "execution_count": 0,
      "outputs": []
    },
    {
      "metadata": {
        "id": "CvYfvOqvf6Zn",
        "colab_type": "code",
        "colab": {
          "autoexec": {
            "startup": false,
            "wait_interval": 0
          }
        }
      },
      "cell_type": "code",
      "source": [
        "content_weight = 0.05\n",
        "style_weight = 50.0\n",
        "total_variation_weight = 1.0"
      ],
      "execution_count": 0,
      "outputs": []
    },
    {
      "metadata": {
        "id": "rr3cdfU9f6Zp",
        "colab_type": "code",
        "colab": {
          "autoexec": {
            "startup": false,
            "wait_interval": 0
          }
        }
      },
      "cell_type": "code",
      "source": [
        "layers=dict([(layer.name, layer.output) for layer in model.layers])\n",
        "print(layers)"
      ],
      "execution_count": 0,
      "outputs": []
    },
    {
      "metadata": {
        "id": "HV7YFuJHf6Zs",
        "colab_type": "code",
        "colab": {
          "autoexec": {
            "startup": false,
            "wait_interval": 0
          }
        }
      },
      "cell_type": "code",
      "source": [
        "loss=backend.variable(0.)"
      ],
      "execution_count": 0,
      "outputs": []
    },
    {
      "metadata": {
        "id": "TleKy1Zhf6Zv",
        "colab_type": "code",
        "colab": {
          "autoexec": {
            "startup": false,
            "wait_interval": 0
          }
        }
      },
      "cell_type": "code",
      "source": [
        "def content_loss(content, combination):\n",
        "    return backend.sum(backend.square(content-combination))"
      ],
      "execution_count": 0,
      "outputs": []
    },
    {
      "metadata": {
        "id": "o2cX1Ke9f6Zx",
        "colab_type": "code",
        "colab": {
          "autoexec": {
            "startup": false,
            "wait_interval": 0
          }
        }
      },
      "cell_type": "code",
      "source": [
        "layer_features=layers['block2_conv2']\n",
        "print(layer_features.shape)\n",
        "content_image_features=layer_features[0,:,:,:]\n",
        "combination_features=layer_features[2,:,:,:]\n",
        "loss+=content_weight*content_loss(content_image_features,combination_features)"
      ],
      "execution_count": 0,
      "outputs": []
    },
    {
      "metadata": {
        "id": "-Ka9WXx-f6Zz",
        "colab_type": "code",
        "colab": {
          "autoexec": {
            "startup": false,
            "wait_interval": 0
          }
        }
      },
      "cell_type": "code",
      "source": [
        "def gram_matrix(x):\n",
        "    features=backend.batch_flatten(backend.permute_dimensions(x,(2,0,1)))\n",
        "    gram=backend.dot(features, backend.transpose(features))\n",
        "    return gram"
      ],
      "execution_count": 0,
      "outputs": []
    },
    {
      "metadata": {
        "id": "Hn-tY-04f6Z2",
        "colab_type": "code",
        "colab": {
          "autoexec": {
            "startup": false,
            "wait_interval": 0
          }
        }
      },
      "cell_type": "code",
      "source": [
        "def style_loss(style,combination):\n",
        "    S=gram_matrix(style)\n",
        "    C=gram_matrix(combination)\n",
        "    channels=3\n",
        "    size=height * width\n",
        "    st=backend.sum(backend.square(S - C)) / (4. * (channels ** 2) * (size ** 2))\n",
        "    return st"
      ],
      "execution_count": 0,
      "outputs": []
    },
    {
      "metadata": {
        "id": "FdiiYhhTf6Z3",
        "colab_type": "code",
        "colab": {
          "autoexec": {
            "startup": false,
            "wait_interval": 0
          }
        }
      },
      "cell_type": "code",
      "source": [
        "feature_layers = ['block1_conv2', 'block2_conv2',\n",
        "                  'block3_conv3', 'block4_conv3',\n",
        "                  'block5_conv3']"
      ],
      "execution_count": 0,
      "outputs": []
    },
    {
      "metadata": {
        "id": "Q3ViYWaZf6Z5",
        "colab_type": "code",
        "colab": {
          "autoexec": {
            "startup": false,
            "wait_interval": 0
          }
        }
      },
      "cell_type": "code",
      "source": [
        "for layer_name in feature_layers:\n",
        "    layer_features=layers[layer_name]\n",
        "    style_features=layer_features[1,:,:,:]\n",
        "    combination_features=layer_features[2,:,:,:]\n",
        "    sl=style_loss(style_features,combination_features)\n",
        "    loss+=(style_weight/len(feature_layers))*sl"
      ],
      "execution_count": 0,
      "outputs": []
    },
    {
      "metadata": {
        "id": "vLt9ccSTf6Z7",
        "colab_type": "code",
        "colab": {
          "autoexec": {
            "startup": false,
            "wait_interval": 0
          }
        }
      },
      "cell_type": "code",
      "source": [
        "def total_variation_loss(x):\n",
        "    a=backend.square(x[:,:height-1,:width-1,:]-x[:,1:,:width-1,:])\n",
        "    b = backend.square(x[:, :height-1, :width-1, :] - x[:, :height-1, 1:, :])\n",
        "    return backend.sum(backend.pow(a + b, 1.25))\n",
        "loss += total_variation_weight * total_variation_loss(combination_image)"
      ],
      "execution_count": 0,
      "outputs": []
    },
    {
      "metadata": {
        "id": "s73NcF2Uf6Z9",
        "colab_type": "code",
        "colab": {
          "autoexec": {
            "startup": false,
            "wait_interval": 0
          }
        }
      },
      "cell_type": "code",
      "source": [
        "grads = backend.gradients(loss, combination_image)"
      ],
      "execution_count": 0,
      "outputs": []
    },
    {
      "metadata": {
        "id": "x3yKX4vef6Z_",
        "colab_type": "code",
        "colab": {
          "autoexec": {
            "startup": false,
            "wait_interval": 0
          }
        }
      },
      "cell_type": "code",
      "source": [
        "outputs=[loss]\n",
        "if isinstance(grads, (list, tuple)):\n",
        "    outputs += grads\n",
        "else:\n",
        "    outputs.append(grads)\n",
        "f_outputs = backend.function([combination_image], outputs)"
      ],
      "execution_count": 0,
      "outputs": []
    },
    {
      "metadata": {
        "id": "4hvlTexEf6aB",
        "colab_type": "code",
        "colab": {
          "autoexec": {
            "startup": false,
            "wait_interval": 0
          }
        }
      },
      "cell_type": "code",
      "source": [
        "def eval_loss_and_grads(x):\n",
        "    x = x.reshape((1, height, width, 3))\n",
        "    outs = f_outputs([x])\n",
        "    loss_value = outs[0]\n",
        "    grad_values = outs[1].flatten().astype('float64')\n",
        "    return loss_value, grad_values"
      ],
      "execution_count": 0,
      "outputs": []
    },
    {
      "metadata": {
        "id": "gVvWlqgWf6aD",
        "colab_type": "code",
        "colab": {
          "autoexec": {
            "startup": false,
            "wait_interval": 0
          }
        }
      },
      "cell_type": "code",
      "source": [
        "class Evaluator(object):\n",
        "    def __init__(self):\n",
        "        self.loss_value=None\n",
        "        self.grads_values=None\n",
        "    \n",
        "    def loss(self, x):\n",
        "        assert self.loss_value is None\n",
        "        loss_value, grad_values = eval_loss_and_grads(x)\n",
        "        self.loss_value = loss_value\n",
        "        self.grad_values = grad_values\n",
        "        return self.loss_value\n",
        "\n",
        "    def grads(self, x):\n",
        "        assert self.loss_value is not None\n",
        "        grad_values = np.copy(self.grad_values)\n",
        "        self.loss_value = None\n",
        "        self.grad_values = None\n",
        "        return grad_values"
      ],
      "execution_count": 0,
      "outputs": []
    },
    {
      "metadata": {
        "id": "H4EmFj4Rf6aF",
        "colab_type": "code",
        "colab": {
          "autoexec": {
            "startup": false,
            "wait_interval": 0
          }
        }
      },
      "cell_type": "code",
      "source": [
        "evaluator=Evaluator()"
      ],
      "execution_count": 0,
      "outputs": []
    },
    {
      "metadata": {
        "id": "Q1vOm2b5f6aI",
        "colab_type": "code",
        "colab": {
          "autoexec": {
            "startup": false,
            "wait_interval": 0
          }
        }
      },
      "cell_type": "code",
      "source": [
        "x=np.random.uniform(0,255,(1,height,width,3))-128.0\n",
        "\n",
        "iterations = 10"
      ],
      "execution_count": 0,
      "outputs": []
    },
    {
      "metadata": {
        "id": "t3p0PpWVf6aK",
        "colab_type": "code",
        "colab": {
          "autoexec": {
            "startup": false,
            "wait_interval": 0
          }
        }
      },
      "cell_type": "code",
      "source": [
        "import time\n",
        "for i in range(iterations):\n",
        "    print('Start of iteration', i)\n",
        "    start_time = time.time()\n",
        "    x, min_val, info = fmin_l_bfgs_b(evaluator.loss, x.flatten(),\n",
        "                           fprime=evaluator.grads, maxfun=20)\n",
        "    print(min_val)\n",
        "    end_time = time.time()\n",
        "    print('Iteration %d completed in %ds' % (i, end_time - start_time))"
      ],
      "execution_count": 0,
      "outputs": []
    },
    {
      "metadata": {
        "id": "Tv3P1U0gf6aN",
        "colab_type": "code",
        "colab": {
          "autoexec": {
            "startup": false,
            "wait_interval": 0
          }
        }
      },
      "cell_type": "code",
      "source": [
        "print\n",
        "x = x.reshape((height, width, 3))\n",
        "x = x[:, :, ::-1]\n",
        "x[:, :, 0] += 103.939\n",
        "x[:, :, 1] += 116.779\n",
        "x[:, :, 2] += 123.68\n",
        "x = np.clip(x, 0, 255).astype('uint8')\n"
      ],
      "execution_count": 0,
      "outputs": []
    },
    {
      "metadata": {
        "id": "4hgkkHX-f6aP",
        "colab_type": "code",
        "colab": {
          "autoexec": {
            "startup": false,
            "wait_interval": 0
          }
        }
      },
      "cell_type": "code",
      "source": [
        "Image.fromarray(x)"
      ],
      "execution_count": 0,
      "outputs": []
    },
    {
      "metadata": {
        "id": "vLH7pfMEf6aR",
        "colab_type": "code",
        "colab": {
          "autoexec": {
            "startup": false,
            "wait_interval": 0
          }
        }
      },
      "cell_type": "code",
      "source": [
        ""
      ],
      "execution_count": 0,
      "outputs": []
    }
  ]
}